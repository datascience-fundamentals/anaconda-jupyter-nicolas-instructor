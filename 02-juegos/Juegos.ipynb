{
 "cells": [
  {
   "cell_type": "code",
   "execution_count": 121,
   "id": "e90a617e-95ac-4ed2-b26a-00cb5e910b03",
   "metadata": {},
   "outputs": [
    {
     "data": {
      "text/plain": [
       "['recomendador-juegos.joblib']"
      ]
     },
     "execution_count": 121,
     "metadata": {},
     "output_type": "execute_result"
    }
   ],
   "source": [
    "import pandas as p\n",
    "from sklearn.tree import DecisionTreeClassifier\n",
    "from sklearn.model_selection import train_test_split\n",
    "from sklearn.metrics import accuracy_score\n",
    "import joblib\n",
    "\n",
    "data_juegos = p.read_csv(\"juegos-ml.csv\")\n",
    "x = data_juegos.drop(columns=[\"juegos\"])\n",
    "y = data_juegos[\"juegos\"]\n",
    "# la data recopilada se separa en grupos (entrenamiento/pruebas) en función a un porcentaje.\n",
    "x_entrenar, x_prueba, y_entrenar, y_prueba = train_test_split(x.values,y, test_size=0.2)\n",
    "# se escoge el model de arbol de decision\n",
    "modelo = DecisionTreeClassifier()\n",
    "# se entrena el model con la data recopilada\n",
    "modelo.fit(x_entrenar, y_entrenar)\n",
    "# se obtiene el valor de las predicciones resultantes\n",
    "predicciones = modelo.predict(x_prueba)\n",
    "# se valida la precision de los resultados obtenidos\n",
    "puntaje = accuracy_score(y_prueba, predicciones)\n",
    "# se guarda el modelo entrenado con el nombre 'recomendador-juegos'\n",
    "joblib.dump(modelo, 'recomendador-juegos.joblib')"
   ]
  },
  {
   "cell_type": "code",
   "execution_count": 129,
   "id": "b3a43a58-1f7b-46a1-b026-e41d6f959442",
   "metadata": {},
   "outputs": [
    {
     "data": {
      "text/plain": [
       "array(['fps'], dtype=object)"
      ]
     },
     "execution_count": 129,
     "metadata": {},
     "output_type": "execute_result"
    }
   ],
   "source": [
    "modelo = joblib.load('recomendador-juegos.joblib')\n",
    "modelo.predict([[14,0]])"
   ]
  }
 ],
 "metadata": {
  "kernelspec": {
   "display_name": "Python 3 (ipykernel)",
   "language": "python",
   "name": "python3"
  },
  "language_info": {
   "codemirror_mode": {
    "name": "ipython",
    "version": 3
   },
   "file_extension": ".py",
   "mimetype": "text/x-python",
   "name": "python",
   "nbconvert_exporter": "python",
   "pygments_lexer": "ipython3",
   "version": "3.12.7"
  }
 },
 "nbformat": 4,
 "nbformat_minor": 5
}
