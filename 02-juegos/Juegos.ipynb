{
 "cells": [
  {
   "cell_type": "code",
   "execution_count": 23,
   "id": "e90a617e-95ac-4ed2-b26a-00cb5e910b03",
   "metadata": {},
   "outputs": [
    {
     "data": {
      "text/plain": [
       "0         accion\n",
       "1         accion\n",
       "2            fps\n",
       "3            fps\n",
       "4            fps\n",
       "5            fps\n",
       "6           jrpg\n",
       "7           jrpg\n",
       "8           jrpg\n",
       "9         accion\n",
       "10        accion\n",
       "11        accion\n",
       "12    plataforma\n",
       "13    plataforma\n",
       "14    plataforma\n",
       "15        puzzle\n",
       "16        puzzle\n",
       "17           fps\n",
       "18           fps\n",
       "19           fps\n",
       "Name: juegos, dtype: object"
      ]
     },
     "execution_count": 23,
     "metadata": {},
     "output_type": "execute_result"
    }
   ],
   "source": [
    "import pandas as p\n",
    "data_juegos = p.read_csv(\"juegos-ml.csv\")\n",
    "X = data_juegos.drop(columns=[\"juegos\"])\n",
    "Y = data_juegos[\"juegos\"]\n",
    "Y"
   ]
  }
 ],
 "metadata": {
  "kernelspec": {
   "display_name": "Python 3 (ipykernel)",
   "language": "python",
   "name": "python3"
  },
  "language_info": {
   "codemirror_mode": {
    "name": "ipython",
    "version": 3
   },
   "file_extension": ".py",
   "mimetype": "text/x-python",
   "name": "python",
   "nbconvert_exporter": "python",
   "pygments_lexer": "ipython3",
   "version": "3.12.7"
  }
 },
 "nbformat": 4,
 "nbformat_minor": 5
}
